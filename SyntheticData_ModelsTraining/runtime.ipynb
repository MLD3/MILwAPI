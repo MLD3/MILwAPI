{
 "cells": [
  {
   "cell_type": "code",
   "execution_count": 1,
   "id": "249e3976-fa24-4d53-b8a0-8c0f31cd398c",
   "metadata": {},
   "outputs": [],
   "source": [
    "from models import *\n",
    "import os\n",
    "import joblib\n",
    "import random\n",
    "import numpy as np\n",
    "torch.backends.cudnn.enabled=False\n",
    "from sklearn.metrics import roc_auc_score\n",
    "import time\n",
    "\n",
    "\n",
    "torch.backends.cudnn.deterministic = True\n",
    "os.environ[\"CUDA_DEVICE_ORDER\"]=\"PCI_BUS_ID\"\n",
    "os.environ[\"CUDA_VISIBLE_DEVICES\"]=\"1\"\n",
    "device = torch.device('cuda' if torch.cuda.is_available() else 'cpu')\n",
    "\n",
    "sparsity = 0.1\n",
    "bag_size = 10\n",
    "X_test = joblib.load('../MNIST/X_test_%d_%d_%d'%((int(sparsity*100), bag_size, 250)))\n",
    "y_test = joblib.load('../MNIST/y_test_%d_%d_%d'%((int(sparsity*100), bag_size, 250)))\n",
    "actual_y_test = joblib.load('../MNIST/actual_y_test_%d_%d_%d'%((int(sparsity*100), bag_size, 250)))\n",
    "\n",
    "test_dg = CIFAR10Dataset('test', {'features':torch.tensor(X_test), 'labels':torch.tensor(y_test), 'labels2':torch.tensor(actual_y_test)})\n",
    "test_loader = DataLoader(test_dg,batch_size = 1,shuffle = False)"
   ]
  },
  {
   "cell_type": "markdown",
   "id": "adf38614-a427-47a8-9e37-a700681ec3cf",
   "metadata": {},
   "source": [
    "### ABDMIL_NOPE"
   ]
  },
  {
   "cell_type": "code",
   "execution_count": 13,
   "id": "e8978f08-4b57-4791-b608-17c9cdfc4b33",
   "metadata": {},
   "outputs": [
    {
     "name": "stdout",
     "output_type": "stream",
     "text": [
      "0.24195289611816406\n"
     ]
    }
   ],
   "source": [
    "cM = 40\n",
    "cE = 100\n",
    "cL = 500\n",
    "\n",
    "cD = 128\n",
    "    \n",
    "model = ABDMIL(ftEx, cM, cE, cL, cD).to(device)\n",
    "bag_preds = []\n",
    "bag_ys = []\n",
    "start_epoch = time.time()\n",
    "for curridx, x_i, y_i, actual_y_i in test_loader:\n",
    "    x_i = x_i.transpose(0, 1)\n",
    "    y_i = y_i.to(device)\n",
    "    \n",
    "    # positive pair, with encoding\n",
    "    _, bag_prediction = model(x_i.to(device))\n",
    "\n",
    "    bag_preds.extend(F.softmax(bag_prediction, dim = 1)[:, 1].detach().cpu().numpy())\n",
    "    bag_ys.extend(y_i.detach().cpu().numpy())\n",
    "\n",
    "    del x_i\n",
    "    del bag_prediction\n",
    "end_epoch = time.time()\n",
    "\n",
    "bag_preds = np.array(bag_preds)\n",
    "bag_ys = np.array(bag_ys)  \n",
    "print(end_epoch - start_epoch)"
   ]
  },
  {
   "cell_type": "markdown",
   "id": "a682be3a-9428-4d9c-a561-09b5d34fdcdc",
   "metadata": {},
   "source": [
    "### ABDMIL_PE"
   ]
  },
  {
   "cell_type": "code",
   "execution_count": 14,
   "id": "05ffa47b-463b-4314-9099-278f801b7634",
   "metadata": {},
   "outputs": [
    {
     "name": "stdout",
     "output_type": "stream",
     "text": [
      "0.2575087547302246\n"
     ]
    }
   ],
   "source": [
    "cM = 40\n",
    "cE = 100\n",
    "cL = 500\n",
    "\n",
    "cD = 128\n",
    "cLR = 1e-4\n",
    "cWD = 1e-7\n",
    "\n",
    "model = ABDMIL(ftEx, cM, cE, cL, cD, PE = True).to(device)\n",
    "\n",
    "bag_preds = []\n",
    "bag_ys = []\n",
    "start_epoch = time.time()\n",
    "for curridx, x_i, y_i, actual_y_i in test_loader:\n",
    "    x_i = x_i.transpose(0, 1)\n",
    "    y_i = y_i.to(device)\n",
    "    \n",
    "    # positive pair, with encoding\n",
    "    _, bag_prediction = model(x_i.to(device))\n",
    "\n",
    "    bag_preds.extend(F.softmax(bag_prediction, dim = 1)[:, 1].detach().cpu().numpy())\n",
    "    bag_ys.extend(y_i.detach().cpu().numpy())\n",
    "\n",
    "    del x_i\n",
    "    del bag_prediction\n",
    "end_epoch = time.time()\n",
    "\n",
    "bag_preds = np.array(bag_preds)\n",
    "bag_ys = np.array(bag_ys)  \n",
    "print(end_epoch - start_epoch)"
   ]
  },
  {
   "cell_type": "markdown",
   "id": "1a09c9c9-fc8e-481a-bfae-cadc430c3a88",
   "metadata": {
    "tags": []
   },
   "source": [
    "### CLAM NOPE"
   ]
  },
  {
   "cell_type": "code",
   "execution_count": 4,
   "id": "7f645f6e-40d8-4c26-ada1-c3524cd62a02",
   "metadata": {},
   "outputs": [
    {
     "name": "stdout",
     "output_type": "stream",
     "text": [
      "0.34418773651123047\n"
     ]
    }
   ],
   "source": [
    "cM = 40\n",
    "cE = 100\n",
    "cL = 500\n",
    "\n",
    "cK = 5\n",
    "cDrop = 0 \n",
    "cC = 0.7\n",
    "\n",
    "model = ClamWrapper(ftEx, cM, cE, cL, cK, cDrop, True, PE = False).to(device)\n",
    "\n",
    "bag_preds = []\n",
    "bag_ys = []\n",
    "start_epoch = time.time()\n",
    "for curridx, x_i, y_i, actual_y_i in test_loader:\n",
    "    x_i = x_i.transpose(0, 1)\n",
    "    y_i = y_i.to(device)\n",
    "\n",
    "    # positive pair, with encoding\n",
    "    bag_prediction, inst_dict = model(x_i.to(device), y_i.to(torch.int64), instance_eval = True)\n",
    "\n",
    "    bag_preds.extend(F.softmax(bag_prediction, dim = 1)[:, 1].detach().cpu().numpy())\n",
    "    bag_ys.extend(y_i.detach().cpu().numpy())\n",
    "end_epoch = time.time()\n",
    "\n",
    "bag_preds = np.array(bag_preds)\n",
    "bag_ys = np.array(bag_ys)  \n",
    "print(end_epoch - start_epoch)\n"
   ]
  },
  {
   "cell_type": "markdown",
   "id": "c4dda110-d600-47ea-a65a-a58ff5a110c2",
   "metadata": {},
   "source": [
    "### CLAM PE"
   ]
  },
  {
   "cell_type": "code",
   "execution_count": 5,
   "id": "930973ac-587e-45ce-86d7-3089d9768d13",
   "metadata": {},
   "outputs": [
    {
     "name": "stdout",
     "output_type": "stream",
     "text": [
      "0.3661172389984131\n"
     ]
    }
   ],
   "source": [
    "cM = 40\n",
    "cE = 100\n",
    "cL = 500\n",
    "\n",
    "# K:5, Drop:1, cC:0.5, LR:1e-4, WD:1e-7\n",
    "cLR = 1e-4\n",
    "cWD = 1e-7\n",
    "\n",
    "cK = 5\n",
    "cDrop = 1\n",
    "cC = 0.5\n",
    "\n",
    "model = ClamWrapper(ftEx, cM, cE, cL, cK, cDrop, True, PE = True).to(device)\n",
    "\n",
    "bag_preds = []\n",
    "bag_ys = []\n",
    "start_epoch = time.time()\n",
    "for curridx, x_i, y_i, actual_y_i in test_loader:\n",
    "    x_i = x_i.transpose(0, 1)\n",
    "    y_i = y_i.to(device)\n",
    "\n",
    "    # positive pair, with encoding\n",
    "    bag_prediction, inst_dict = model(x_i.to(device), y_i.to(torch.int64), instance_eval = True)\n",
    "\n",
    "    bag_preds.extend(F.softmax(bag_prediction, dim = 1)[:, 1].detach().cpu().numpy())\n",
    "    bag_ys.extend(y_i.detach().cpu().numpy())\n",
    "end_epoch = time.time()\n",
    "\n",
    "bag_preds = np.array(bag_preds)\n",
    "bag_ys = np.array(bag_ys)  \n",
    "print(end_epoch - start_epoch)"
   ]
  },
  {
   "cell_type": "markdown",
   "id": "d22728c8-e619-4ab2-ad77-a4602a0bca77",
   "metadata": {},
   "source": [
    "## CLAM MB NOPE"
   ]
  },
  {
   "cell_type": "code",
   "execution_count": 6,
   "id": "b5d35333-c077-4241-8744-208bde8a8eff",
   "metadata": {},
   "outputs": [
    {
     "name": "stdout",
     "output_type": "stream",
     "text": [
      "0.38845252990722656\n"
     ]
    }
   ],
   "source": [
    "cM = 40\n",
    "cE = 100\n",
    "cL = 500\n",
    "\n",
    "#  K:1, Drop:1, cC:0.5, LR:1e-4, WD:1e-7\n",
    "cLR = 1e-4\n",
    "cWD = 1e-7\n",
    "\n",
    "cK = 1\n",
    "cDrop = 1\n",
    "cC = 0.5\n",
    "        \n",
    "model = ClamWrapper(ftEx, cM, cE, cL, cK, cDrop, False, PE = False).to(device)\n",
    "\n",
    "bag_preds = []\n",
    "bag_ys = []\n",
    "start_epoch = time.time()\n",
    "for curridx, x_i, y_i, actual_y_i in test_loader:\n",
    "    x_i = x_i.transpose(0, 1)\n",
    "    y_i = y_i.to(device)\n",
    "\n",
    "    # positive pair, with encoding\n",
    "    bag_prediction, inst_dict = model(x_i.to(device), y_i.to(torch.int64), instance_eval = True)\n",
    "\n",
    "    bag_preds.extend(F.softmax(bag_prediction, dim = 1)[:, 1].detach().cpu().numpy())\n",
    "    bag_ys.extend(y_i.detach().cpu().numpy())\n",
    "end_epoch = time.time()\n",
    "\n",
    "bag_preds = np.array(bag_preds)\n",
    "bag_ys = np.array(bag_ys)  \n",
    "print(end_epoch - start_epoch)"
   ]
  },
  {
   "cell_type": "markdown",
   "id": "7e40c9b5-20b8-418a-bda0-6b8af0e9d705",
   "metadata": {},
   "source": [
    "## CLAM MB PE"
   ]
  },
  {
   "cell_type": "code",
   "execution_count": 7,
   "id": "19966169-cba9-4ccd-9b22-4485a81418d5",
   "metadata": {},
   "outputs": [
    {
     "name": "stdout",
     "output_type": "stream",
     "text": [
      "0.40518999099731445\n"
     ]
    }
   ],
   "source": [
    "cM = 40\n",
    "cE = 100\n",
    "cL = 500\n",
    "\n",
    "# K:5, Drop:1, cC:0.3, LR:1e-4, WD:1e-6\n",
    "cLR = 1e-4\n",
    "cWD = 1e-6\n",
    "\n",
    "cK = 5\n",
    "cDrop = 1\n",
    "cC = 0.3\n",
    "\n",
    "model = ClamWrapper(ftEx, cM, cE, cL, cK, cDrop, False, PE = True).to(device)\n",
    "\n",
    "bag_preds = []\n",
    "bag_ys = []\n",
    "start_epoch = time.time()\n",
    "for curridx, x_i, y_i, actual_y_i in test_loader:\n",
    "    x_i = x_i.transpose(0, 1)\n",
    "    y_i = y_i.to(device)\n",
    "\n",
    "    # positive pair, with encoding\n",
    "    bag_prediction, inst_dict = model(x_i.to(device), y_i.to(torch.int64), instance_eval = True)\n",
    "\n",
    "    bag_preds.extend(F.softmax(bag_prediction, dim = 1)[:, 1].detach().cpu().numpy())\n",
    "    bag_ys.extend(y_i.detach().cpu().numpy())\n",
    "end_epoch = time.time()\n",
    "\n",
    "bag_preds = np.array(bag_preds)\n",
    "bag_ys = np.array(bag_ys)  \n",
    "print(end_epoch - start_epoch)"
   ]
  },
  {
   "cell_type": "markdown",
   "id": "63178b88-11c3-4517-b433-46ee7f7551ae",
   "metadata": {},
   "source": [
    "## DTFD NOPE"
   ]
  },
  {
   "cell_type": "code",
   "execution_count": 8,
   "id": "b9ba0498-b934-47cc-9a83-55bc91c772db",
   "metadata": {},
   "outputs": [
    {
     "name": "stdout",
     "output_type": "stream",
     "text": [
      "0.6873672008514404\n"
     ]
    }
   ],
   "source": [
    "cM = 40\n",
    "cE = 100\n",
    "cL = 500\n",
    "\n",
    "# D:128, LR:1e-4, WD:1e-6, NPB:5\n",
    "cD = 128\n",
    "cLR = 1e-4\n",
    "cWD = 1e-6\n",
    "num_pseudo_bags = 5\n",
    "\n",
    "model = DTFD(ftEx, cM, cE, cL, cD, num_pseudo_bags).to(device)\n",
    "\n",
    "bag_preds = []\n",
    "bag_ys = []\n",
    "start_epoch = time.time()\n",
    "criterion = nn.CrossEntropyLoss()\n",
    "\n",
    "for curridx, x_i, y_i, actual_y_i in test_loader:\n",
    "    x_i = x_i.transpose(0, 1)\n",
    "    y_i = y_i.to(device) \n",
    "\n",
    "    bag_prediction, loss_bag = model(x_i.to(device), y_i, criterion)\n",
    "    \n",
    "    bag_preds.extend(F.softmax(bag_prediction, dim = 1)[:, 1].detach().cpu().numpy())\n",
    "    bag_ys.extend(y_i.detach().cpu().numpy())\n",
    "    del x_i\n",
    "    del bag_prediction\n",
    "    del loss_bag\n",
    "end_epoch = time.time()\n",
    "\n",
    "bag_preds = np.array(bag_preds)\n",
    "bag_ys = np.array(bag_ys)  \n",
    "print(end_epoch - start_epoch)"
   ]
  },
  {
   "cell_type": "markdown",
   "id": "71d2f865-8190-498c-8bcb-abff097a13f0",
   "metadata": {},
   "source": [
    "## DTFD PE"
   ]
  },
  {
   "cell_type": "code",
   "execution_count": 9,
   "id": "a855d21e-ab26-4225-8421-7aa66873858c",
   "metadata": {},
   "outputs": [
    {
     "name": "stdout",
     "output_type": "stream",
     "text": [
      "0.6968612670898438\n"
     ]
    }
   ],
   "source": [
    "cM = 40\n",
    "cE = 100\n",
    "cL = 500\n",
    "\n",
    "#  D:128, LR:1e-4, WD:1e-6, NPB:5\n",
    "cD = 128\n",
    "cLR = 1e-4\n",
    "cWD = 1e-6\n",
    "num_pseudo_bags = 5\n",
    "\n",
    "model = DTFD(ftEx, cM, cE, cL, cD, num_pseudo_bags, PE = True).to(device)\n",
    "\n",
    "bag_preds = []\n",
    "bag_ys = []\n",
    "start_epoch = time.time()\n",
    "criterion = nn.CrossEntropyLoss()\n",
    "for curridx, x_i, y_i, actual_y_i in test_loader:\n",
    "    x_i = x_i.transpose(0, 1)\n",
    "    y_i = y_i.to(device) \n",
    "\n",
    "    bag_prediction, loss_bag = model(x_i.to(device), y_i, criterion)\n",
    "    \n",
    "    bag_preds.extend(F.softmax(bag_prediction, dim = 1)[:, 1].detach().cpu().numpy())\n",
    "    bag_ys.extend(y_i.detach().cpu().numpy())\n",
    "    del x_i\n",
    "    del bag_prediction\n",
    "    del loss_bag\n",
    "end_epoch = time.time()\n",
    "\n",
    "bag_preds = np.array(bag_preds)\n",
    "bag_ys = np.array(bag_ys)  \n",
    "print(end_epoch - start_epoch)"
   ]
  },
  {
   "cell_type": "markdown",
   "id": "efadf7a2-3593-4902-9795-516313bb9b60",
   "metadata": {},
   "source": [
    "### Transformer NOPE"
   ]
  },
  {
   "cell_type": "code",
   "execution_count": 10,
   "id": "861f35e2-3509-44e9-8bcf-211073473ffd",
   "metadata": {},
   "outputs": [
    {
     "name": "stdout",
     "output_type": "stream",
     "text": [
      "1.228430986404419\n"
     ]
    }
   ],
   "source": [
    "cD = 64\n",
    "cLR = 1e-4\n",
    "cWD = 1e-6\n",
    "\n",
    "model = Transformer(ftEx, cM, cE, cL, cD).to(device)\n",
    "\n",
    "bag_preds = []\n",
    "bag_ys = []\n",
    "start_epoch = time.time()\n",
    "for curridx, x_i, y_i, actual_y_i in test_loader:\n",
    "    x_i = x_i.transpose(0, 1)\n",
    "    y_i = y_i.to(device)\n",
    "\n",
    "    # positive pair, with encoding\n",
    "    bag_prediction = model(x_i.to(device))\n",
    "\n",
    "    bag_preds.extend(F.softmax(bag_prediction, dim = 1)[:, 1].detach().cpu().numpy())\n",
    "    bag_ys.extend(y_i.detach().cpu().numpy())\n",
    "\n",
    "    del x_i\n",
    "    del bag_prediction\n",
    "end_epoch = time.time()\n",
    "\n",
    "bag_preds = np.array(bag_preds)\n",
    "bag_ys = np.array(bag_ys)  \n",
    "print(end_epoch - start_epoch)\n"
   ]
  },
  {
   "cell_type": "markdown",
   "id": "09117f8e-37d8-4f72-82ba-4b1c43785de3",
   "metadata": {},
   "source": [
    "### TRANSFORMER PE"
   ]
  },
  {
   "cell_type": "code",
   "execution_count": 11,
   "id": "8796b905-aef4-472e-af5e-39ddbea88ef8",
   "metadata": {},
   "outputs": [
    {
     "name": "stdout",
     "output_type": "stream",
     "text": [
      "1.2693581581115723\n"
     ]
    }
   ],
   "source": [
    "cM = 40\n",
    "cE = 100\n",
    "cL = 500\n",
    "\n",
    "# D:128, LR:1e-4, WD:1e-7\n",
    "cD = 128\n",
    "cLR = 1e-4\n",
    "cWD = 1e-7\n",
    "\n",
    "model = Transformer(ftEx, cM, cE, cL, cD, PE = True).to(device)\n",
    "\n",
    "bag_preds = []\n",
    "bag_ys = []\n",
    "start_epoch = time.time()\n",
    "for curridx, x_i, y_i, actual_y_i in test_loader:\n",
    "    x_i = x_i.transpose(0, 1)\n",
    "    y_i = y_i.to(device)\n",
    "\n",
    "    # positive pair, with encoding\n",
    "    bag_prediction = model(x_i.to(device))\n",
    "\n",
    "    bag_preds.extend(F.softmax(bag_prediction, dim = 1)[:, 1].detach().cpu().numpy())\n",
    "    bag_ys.extend(y_i.detach().cpu().numpy())\n",
    "\n",
    "    del x_i\n",
    "    del bag_prediction\n",
    "\n",
    "end_epoch = time.time()\n",
    "\n",
    "bag_preds = np.array(bag_preds)\n",
    "bag_ys = np.array(bag_ys)  \n",
    "print(end_epoch - start_epoch)\n"
   ]
  },
  {
   "cell_type": "markdown",
   "id": "58e84e89-ea0c-41b9-8810-a5b6f1e2a516",
   "metadata": {},
   "source": [
    "### TRANSMIL"
   ]
  },
  {
   "cell_type": "code",
   "execution_count": 12,
   "id": "794cbacc-c4e2-431e-9a1b-05b5fa7f606a",
   "metadata": {},
   "outputs": [
    {
     "name": "stdout",
     "output_type": "stream",
     "text": [
      "1.2892742156982422\n"
     ]
    }
   ],
   "source": [
    "cM = 40\n",
    "cE = 100\n",
    "cL = 500\n",
    "\n",
    "# D:32, LR:1e-4, WD:1e-6\n",
    "cD = 32\n",
    "cLR = 1e-4\n",
    "cWD = 1e-6\n",
    "\n",
    "model = TransMIL(ftEx, cM, cE, cL, cD).to(device)\n",
    "\n",
    "bag_preds = []\n",
    "bag_ys = []\n",
    "start_epoch = time.time()\n",
    "for curridx, x_i, y_i, actual_y_i in test_loader:\n",
    "    x_i = x_i.transpose(0, 1)\n",
    "    y_i = y_i.to(device)\n",
    "\n",
    "    # positive pair, with encoding\n",
    "    bag_prediction = model(x_i.to(device))\n",
    "\n",
    "    bag_preds.extend(F.softmax(bag_prediction, dim = 1)[:, 1].detach().cpu().numpy())\n",
    "    bag_ys.extend(y_i.detach().cpu().numpy())\n",
    "\n",
    "    del x_i\n",
    "    del bag_prediction\n",
    "end_epoch = time.time()\n",
    "\n",
    "bag_preds = np.array(bag_preds)\n",
    "bag_ys = np.array(bag_ys)  \n",
    "print(end_epoch - start_epoch)"
   ]
  }
 ],
 "metadata": {
  "kernelspec": {
   "display_name": "Python 3 (ipykernel)",
   "language": "python",
   "name": "python3"
  },
  "language_info": {
   "codemirror_mode": {
    "name": "ipython",
    "version": 3
   },
   "file_extension": ".py",
   "mimetype": "text/x-python",
   "name": "python",
   "nbconvert_exporter": "python",
   "pygments_lexer": "ipython3",
   "version": "3.8.10"
  }
 },
 "nbformat": 4,
 "nbformat_minor": 5
}
