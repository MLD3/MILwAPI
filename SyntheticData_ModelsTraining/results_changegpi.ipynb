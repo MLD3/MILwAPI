{
 "cells": [
  {
   "cell_type": "code",
   "execution_count": 1,
   "id": "ac9252b0-118b-4d29-a2d8-6ca72df1fda2",
   "metadata": {},
   "outputs": [],
   "source": [
    "import joblib\n",
    "import numpy as np\n",
    "import matplotlib.pyplot as plt\n",
    "import matplotlib\n",
    "from scipy import stats"
   ]
  },
  {
   "cell_type": "code",
   "execution_count": 2,
   "id": "1d33fa85-3c69-4644-b0b5-fa2a3e101bcf",
   "metadata": {},
   "outputs": [],
   "source": [
    "def test(f_loss_file):    \n",
    "    train_losses = []\n",
    "    val_losses = []\n",
    "    val_aurocs = []\n",
    "\n",
    "    bag_test_aurocs = []\n",
    "\n",
    "    f_loss = open(f_loss_file)\n",
    "    count = -1\n",
    "    params = ''\n",
    "    for line_loss in f_loss:\n",
    "        # print(line_loss)\n",
    "        if count == -1:\n",
    "            params = line_loss\n",
    "        count += 1\n",
    "        if count > 0:\n",
    "            train_losses.append(float(line_loss.split(', ')[1]))\n",
    "            val_losses.append(float(line_loss.split(', ')[2]))\n",
    "            val_aurocs.append(float(line_loss.split(', ')[3]))\n",
    "            bag_test_aurocs.append(float(line_loss.split(',')[4]))\n",
    "    # print(len(val_aurocs) - np.argmax(val_aurocs))\n",
    "    return bag_test_aurocs[np.argmax(val_aurocs)]"
   ]
  },
  {
   "cell_type": "code",
   "execution_count": null,
   "id": "409a498e-badf-45be-8598-3dbdd3d3df06",
   "metadata": {},
   "outputs": [],
   "source": []
  }
 ],
 "metadata": {
  "kernelspec": {
   "display_name": "Python 3 (ipykernel)",
   "language": "python",
   "name": "python3"
  },
  "language_info": {
   "codemirror_mode": {
    "name": "ipython",
    "version": 3
   },
   "file_extension": ".py",
   "mimetype": "text/x-python",
   "name": "python",
   "nbconvert_exporter": "python",
   "pygments_lexer": "ipython3",
   "version": "3.8.10"
  }
 },
 "nbformat": 4,
 "nbformat_minor": 5
}
