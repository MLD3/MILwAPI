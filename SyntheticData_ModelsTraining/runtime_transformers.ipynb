{
 "cells": [
  {
   "cell_type": "code",
   "execution_count": 1,
   "id": "249e3976-fa24-4d53-b8a0-8c0f31cd398c",
   "metadata": {},
   "outputs": [],
   "source": [
    "from transformer_models import *\n",
    "import os\n",
    "import joblib\n",
    "import random\n",
    "import numpy as np\n",
    "torch.backends.cudnn.enabled=False\n",
    "from sklearn.metrics import roc_auc_score\n",
    "import time\n",
    "\n",
    "\n",
    "torch.backends.cudnn.deterministic = True\n",
    "os.environ[\"CUDA_DEVICE_ORDER\"]=\"PCI_BUS_ID\"\n",
    "os.environ[\"CUDA_VISIBLE_DEVICES\"]=\"1\"\n",
    "device = torch.device('cuda' if torch.cuda.is_available() else 'cpu')\n",
    "\n",
    "sparsity = 0.1\n",
    "bag_size = 10\n",
    "X_test = joblib.load('../MNIST/X_test_%d_%d_%d'%((int(sparsity*100), bag_size, 250)))\n",
    "y_test = joblib.load('../MNIST/y_test_%d_%d_%d'%((int(sparsity*100), bag_size, 250)))\n",
    "actual_y_test = joblib.load('../MNIST/actual_y_test_%d_%d_%d'%((int(sparsity*100), bag_size, 250)))\n",
    "\n",
    "test_dg = CIFAR10Dataset('test', {'features':torch.tensor(X_test), 'labels':torch.tensor(y_test), 'labels2':torch.tensor(actual_y_test)})\n",
    "test_loader = DataLoader(test_dg,batch_size = 1,shuffle = False)"
   ]
  },
  {
   "cell_type": "code",
   "execution_count": null,
   "id": "bb191a42-10fb-434a-87c3-626568cf3dfe",
   "metadata": {},
   "outputs": [],
   "source": [
    "## TRansformer ORIG"
   ]
  },
  {
   "cell_type": "code",
   "execution_count": 5,
   "id": "a9e6a646-fb1b-468c-a956-686b8be48413",
   "metadata": {},
   "outputs": [
    {
     "name": "stdout",
     "output_type": "stream",
     "text": [
      "0.458782434463501\n"
     ]
    }
   ],
   "source": [
    "cM = 40\n",
    "cE = 100\n",
    "cL = 500\n",
    "\n",
    "cD = 64\n",
    "cLR = 1e-4\n",
    "cWD = 1e-6\n",
    "\n",
    "model = Transformer(ftEx, cM, cE, cL, cD, 'cls_token', 'Orig', PE = False).to(device)\n",
    "\n",
    "bag_preds = []\n",
    "bag_ys = []\n",
    "start_epoch = time.time()\n",
    "for curridx, x_i, y_i, actual_y_i in test_loader:\n",
    "    x_i = x_i.transpose(0, 1)\n",
    "    y_i = y_i.to(device)\n",
    "\n",
    "    # positive pair, with encoding\n",
    "    bag_prediction = model(x_i.to(device))\n",
    "\n",
    "    bag_preds.extend(F.softmax(bag_prediction, dim = 1)[:, 1].detach().cpu().numpy())\n",
    "    bag_ys.extend(y_i.detach().cpu().numpy())\n",
    "\n",
    "    del x_i\n",
    "    del bag_prediction\n",
    "end_epoch = time.time()\n",
    "\n",
    "bag_preds = np.array(bag_preds)\n",
    "bag_ys = np.array(bag_ys)  \n",
    "print(end_epoch - start_epoch)\n"
   ]
  },
  {
   "cell_type": "code",
   "execution_count": null,
   "id": "212f44da-d6b1-4c21-8caf-c71fae986b3f",
   "metadata": {},
   "outputs": [],
   "source": [
    "### Transformer ORIG PE"
   ]
  },
  {
   "cell_type": "code",
   "execution_count": 4,
   "id": "b576fdda-7f2b-43a6-b8ff-47da352c3007",
   "metadata": {},
   "outputs": [
    {
     "name": "stdout",
     "output_type": "stream",
     "text": [
      "0.4748353958129883\n"
     ]
    }
   ],
   "source": [
    "cM = 40\n",
    "cE = 100\n",
    "cL = 500\n",
    "\n",
    "# D:128, LR:1e-4, WD:1e-7\n",
    "cD = 128\n",
    "cLR = 1e-4\n",
    "cWD = 1e-7\n",
    "\n",
    "model = Transformer(ftEx, cM, cE, cL, cD, 'cls_token', 'Orig', PE = True).to(device)\n",
    "\n",
    "bag_preds = []\n",
    "bag_ys = []\n",
    "start_epoch = time.time()\n",
    "for curridx, x_i, y_i, actual_y_i in test_loader:\n",
    "    x_i = x_i.transpose(0, 1)\n",
    "    y_i = y_i.to(device)\n",
    "\n",
    "    # positive pair, with encoding\n",
    "    bag_prediction = model(x_i.to(device))\n",
    "\n",
    "    bag_preds.extend(F.softmax(bag_prediction, dim = 1)[:, 1].detach().cpu().numpy())\n",
    "    bag_ys.extend(y_i.detach().cpu().numpy())\n",
    "\n",
    "    del x_i\n",
    "    del bag_prediction\n",
    "\n",
    "end_epoch = time.time()\n",
    "\n",
    "bag_preds = np.array(bag_preds)\n",
    "bag_ys = np.array(bag_ys)  \n",
    "print(end_epoch - start_epoch)\n"
   ]
  }
 ],
 "metadata": {
  "kernelspec": {
   "display_name": "Python 3 (ipykernel)",
   "language": "python",
   "name": "python3"
  },
  "language_info": {
   "codemirror_mode": {
    "name": "ipython",
    "version": 3
   },
   "file_extension": ".py",
   "mimetype": "text/x-python",
   "name": "python",
   "nbconvert_exporter": "python",
   "pygments_lexer": "ipython3",
   "version": "3.8.10"
  }
 },
 "nbformat": 4,
 "nbformat_minor": 5
}
