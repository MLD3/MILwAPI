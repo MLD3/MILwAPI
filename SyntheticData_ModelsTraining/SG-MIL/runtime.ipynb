{
 "cells": [
  {
   "cell_type": "code",
   "execution_count": 2,
   "id": "249e3976-fa24-4d53-b8a0-8c0f31cd398c",
   "metadata": {},
   "outputs": [
    {
     "name": "stderr",
     "output_type": "stream",
     "text": [
      "/home/user/venv/lib/python3.8/site-packages/tqdm/auto.py:21: TqdmWarning: IProgress not found. Please update jupyter and ipywidgets. See https://ipywidgets.readthedocs.io/en/stable/user_install.html\n",
      "  from .autonotebook import tqdm as notebook_tqdm\n"
     ]
    }
   ],
   "source": [
    "from sgl_models import *\n",
    "import os\n",
    "import joblib\n",
    "import random\n",
    "import numpy as np\n",
    "torch.backends.cudnn.enabled=False\n",
    "from sklearn.metrics import roc_auc_score\n",
    "import time\n",
    "\n",
    "\n",
    "torch.backends.cudnn.deterministic = True\n",
    "os.environ[\"CUDA_DEVICE_ORDER\"]=\"PCI_BUS_ID\"\n",
    "os.environ[\"CUDA_VISIBLE_DEVICES\"]=\"1\"\n",
    "device = torch.device('cuda' if torch.cuda.is_available() else 'cpu')\n",
    "\n",
    "sparsity = 0.1\n",
    "bag_size = 10\n",
    "X_test = joblib.load('/data2/user/MNIST/X_test_%d_%d_%d'%((int(sparsity*100), bag_size, 250)))\n",
    "y_test = joblib.load('/data2/user/MNIST/y_test_%d_%d_%d'%((int(sparsity*100), bag_size, 250)))\n",
    "actual_y_test = joblib.load('/data2/user/MNIST/actual_y_test_%d_%d_%d'%((int(sparsity*100), bag_size, 250)))\n",
    "\n",
    "test_dg = CIFAR10Dataset('test', {'features':torch.tensor(X_test), 'labels':torch.tensor(y_test), 'labels2':torch.tensor(actual_y_test)})\n",
    "test_loader = DataLoader(test_dg,batch_size = 1,shuffle = False)"
   ]
  },
  {
   "cell_type": "markdown",
   "id": "adf38614-a427-47a8-9e37-a700681ec3cf",
   "metadata": {},
   "source": [
    "### SGL_NOPE"
   ]
  },
  {
   "cell_type": "code",
   "execution_count": 6,
   "id": "e8978f08-4b57-4791-b608-17c9cdfc4b33",
   "metadata": {},
   "outputs": [
    {
     "name": "stdout",
     "output_type": "stream",
     "text": [
      "1.115872859954834\n"
     ]
    }
   ],
   "source": [
    "cM = 40\n",
    "cE = 100\n",
    "cL = 500\n",
    "\n",
    "cD = 128\n",
    "    \n",
    "model = SGLModel(ftEx, cM, cE, cL, cD, PE = False).to(device)\n",
    "bag_preds = []\n",
    "bag_ys = []\n",
    "start_epoch = time.time()\n",
    "for curridx, x_i, y_i, actual_y_i in test_loader:\n",
    "    x_i = x_i.transpose(0, 1)\n",
    "    y_i = y_i.to(device)\n",
    "    \n",
    "    # positive pair, with encoding\n",
    "    inst_pred = model(x_i.to(device))\n",
    "    bag_prediction = lin_soft(inst_pred.sigmoid())\n",
    "\n",
    "    bag_preds.extend(bag_prediction.detach().cpu().numpy())\n",
    "    bag_ys.extend(y_i.detach().cpu().numpy())\n",
    "\n",
    "    del x_i\n",
    "    del bag_prediction\n",
    "end_epoch = time.time()\n",
    "\n",
    "bag_preds = np.array(bag_preds)\n",
    "bag_ys = np.array(bag_ys)  \n",
    "print(end_epoch - start_epoch)"
   ]
  },
  {
   "cell_type": "markdown",
   "id": "a682be3a-9428-4d9c-a561-09b5d34fdcdc",
   "metadata": {},
   "source": [
    "### SGL_PE"
   ]
  },
  {
   "cell_type": "code",
   "execution_count": 7,
   "id": "05ffa47b-463b-4314-9099-278f801b7634",
   "metadata": {},
   "outputs": [
    {
     "name": "stdout",
     "output_type": "stream",
     "text": [
      "1.4989159107208252\n"
     ]
    }
   ],
   "source": [
    "cM = 40\n",
    "cE = 100\n",
    "cL = 500\n",
    "\n",
    "cD = 128\n",
    "cLR = 1e-4\n",
    "cWD = 1e-7\n",
    "\n",
    "model = SGLModel(ftEx, cM, cE, cL, cD, PE = True).to(device)\n",
    "\n",
    "bag_preds = []\n",
    "bag_ys = []\n",
    "start_epoch = time.time()\n",
    "for curridx, x_i, y_i, actual_y_i in test_loader:\n",
    "    x_i = x_i.transpose(0, 1)\n",
    "    y_i = y_i.to(device)\n",
    "    \n",
    "    # positive pair, with encoding\n",
    "    inst_pred = model(x_i.to(device))\n",
    "    bag_prediction = lin_soft(inst_pred.sigmoid())\n",
    "\n",
    "    bag_preds.extend(bag_prediction.detach().cpu().numpy())\n",
    "    bag_ys.extend(y_i.detach().cpu().numpy())\n",
    "\n",
    "    del x_i\n",
    "    del bag_prediction\n",
    "end_epoch = time.time()\n",
    "\n",
    "bag_preds = np.array(bag_preds)\n",
    "bag_ys = np.array(bag_ys)  \n",
    "print(end_epoch - start_epoch)"
   ]
  },
  {
   "cell_type": "code",
   "execution_count": null,
   "id": "29e93d51-1e4f-477e-a3b6-9d202fa24a61",
   "metadata": {},
   "outputs": [],
   "source": []
  },
  {
   "cell_type": "code",
   "execution_count": null,
   "id": "9451313f-57c6-4358-9691-44936b6fd930",
   "metadata": {},
   "outputs": [],
   "source": []
  }
 ],
 "metadata": {
  "kernelspec": {
   "display_name": "Python 3 (ipykernel)",
   "language": "python",
   "name": "python3"
  },
  "language_info": {
   "codemirror_mode": {
    "name": "ipython",
    "version": 3
   },
   "file_extension": ".py",
   "mimetype": "text/x-python",
   "name": "python",
   "nbconvert_exporter": "python",
   "pygments_lexer": "ipython3",
   "version": "3.8.10"
  }
 },
 "nbformat": 4,
 "nbformat_minor": 5
}
