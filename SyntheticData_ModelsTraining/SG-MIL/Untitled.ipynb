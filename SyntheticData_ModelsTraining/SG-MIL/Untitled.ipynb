{
 "cells": [
  {
   "cell_type": "code",
   "execution_count": 1,
   "id": "776468b9-517e-4721-badd-55782218b3bb",
   "metadata": {},
   "outputs": [],
   "source": [
    "max_i = 0\n",
    "max_vals = 0\n",
    "max_params = ''\n",
    "for i in range(20):\n",
    "    with open('hyp%d_numbags100_MNIST_permdist0_sglmodel_loss.txt'%i) as f:\n",
    "        count = -1\n",
    "        vals = []\n",
    "        for line in f:\n",
    "            count += 1\n",
    "            if count == 1:\n",
    "                params = line.split('\\n')[0]\n",
    "            if count > 1:\n",
    "                vals.append(float(line.split(', ')[3]))\n",
    "        if max(vals) > max_vals:\n",
    "            max_vals = max(vals)\n",
    "            max_i = i\n",
    "            max_params = params"
   ]
  },
  {
   "cell_type": "code",
   "execution_count": 2,
   "id": "c4b1afc2-4c06-41f0-8750-5fb3c544df31",
   "metadata": {},
   "outputs": [
    {
     "name": "stdout",
     "output_type": "stream",
     "text": [
      "2\n",
      "cLR:1e-4.0000, cWD:1e-6.0000, cdelta:0.2000, cmi:0.5000\n",
      "0.7964\n"
     ]
    }
   ],
   "source": [
    "print(max_i)\n",
    "print(max_params)\n",
    "print(max_vals)"
   ]
  },
  {
   "cell_type": "code",
   "execution_count": 3,
   "id": "ba8ce018-5066-42ea-99f4-278a412c0621",
   "metadata": {},
   "outputs": [],
   "source": [
    "max_i = 0\n",
    "max_vals = 0\n",
    "max_params = ''\n",
    "for i in range(20):\n",
    "    with open('PETRUE_hyp%d_numbags100_MNIST_permdist0_sglmodel_loss.txt'%i) as f:\n",
    "        count = -1\n",
    "        vals = []\n",
    "        for line in f:\n",
    "            count += 1\n",
    "            if count == 1:\n",
    "                params = line.split('\\n')[0]\n",
    "            if count > 1:\n",
    "                vals.append(float(line.split(', ')[3]))\n",
    "        if max(vals) > max_vals:\n",
    "            max_vals = max(vals)\n",
    "            max_i = i\n",
    "            max_params = params"
   ]
  },
  {
   "cell_type": "code",
   "execution_count": 4,
   "id": "6958144e-85be-4456-876c-4d8b9c42a42a",
   "metadata": {},
   "outputs": [
    {
     "name": "stdout",
     "output_type": "stream",
     "text": [
      "7\n",
      "cLR:1e-4.0000, cWD:1e-6.0000, cdelta:0.3000, cmi:1.0000\n",
      "0.9108\n"
     ]
    }
   ],
   "source": [
    "print(max_i)\n",
    "print(max_params)\n",
    "print(max_vals)"
   ]
  },
  {
   "cell_type": "code",
   "execution_count": null,
   "id": "8a3a6ac9-b0ac-4bad-8f7a-8335c62b2bc7",
   "metadata": {},
   "outputs": [],
   "source": []
  }
 ],
 "metadata": {
  "kernelspec": {
   "display_name": "Python 3 (ipykernel)",
   "language": "python",
   "name": "python3"
  },
  "language_info": {
   "codemirror_mode": {
    "name": "ipython",
    "version": 3
   },
   "file_extension": ".py",
   "mimetype": "text/x-python",
   "name": "python",
   "nbconvert_exporter": "python",
   "pygments_lexer": "ipython3",
   "version": "3.8.10"
  }
 },
 "nbformat": 4,
 "nbformat_minor": 5
}
