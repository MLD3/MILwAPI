{
 "cells": [
  {
   "cell_type": "code",
   "execution_count": 1,
   "id": "249e3976-fa24-4d53-b8a0-8c0f31cd398c",
   "metadata": {},
   "outputs": [
    {
     "name": "stderr",
     "output_type": "stream",
     "text": [
      "/home/meerak/venv/lib/python3.8/site-packages/tqdm/auto.py:21: TqdmWarning: IProgress not found. Please update jupyter and ipywidgets. See https://ipywidgets.readthedocs.io/en/stable/user_install.html\n",
      "  from .autonotebook import tqdm as notebook_tqdm\n",
      "/home/meerak/cxr_mimic/best_pretraining_Cardiomegaly/irpe.py:14: UserWarning: \u001b[91m[WARNING] The module `rpe_ops` is not built. For better training performance, please build `rpe_ops`.\u001b[00m\n",
      "  warnings.warn(RED_STR.format(\"[WARNING] The module `rpe_ops` is not built. \\\n"
     ]
    }
   ],
   "source": [
    "import torch\n",
    "import os\n",
    "from dataloader_helper import *\n",
    "from models import *\n",
    "import numpy as np\n",
    "import random\n",
    "import torch.optim as optim\n",
    "from sklearn.metrics import roc_auc_score\n",
    "import joblib\n",
    "import time\n",
    "\n",
    "\n",
    "torch.backends.cudnn.deterministic = True\n",
    "os.environ[\"CUDA_DEVICE_ORDER\"]=\"PCI_BUS_ID\"\n",
    "os.environ[\"CUDA_VISIBLE_DEVICES\"]=\"6\"\n",
    "device = torch.device('cuda' if torch.cuda.is_available() else 'cpu')\n",
    "\n",
    "start = '/data2/meerak/models/'\n",
    "\n",
    "X_test, y_test = np.array(joblib.load('/data2/meerak/MIMIC_CXR_FTS/UPDATED_test_fts.joblib')), np.array(joblib.load('/data2/meerak/MIMIC_CXR_FTS/UPDATED_test_ys.joblib'))\n",
    "test_dg = CXRDataset('test', {'features':torch.tensor(X_test), 'labels':torch.tensor(y_test)})\n",
    "test_loader = DataLoader(test_dg,batch_size = 1,shuffle = False)\n",
    "\n",
    "def get_epoch(name):\n",
    "    title = 'best_%s.txt'%(name)\n",
    "    with open(title) as f:\n",
    "        count = 0\n",
    "        vals = []\n",
    "        tests = []\n",
    "        for line in f:\n",
    "            if count > 1:\n",
    "                vals.append(float(line.split(', ')[4]))\n",
    "                tests.append(float(line.split(', ')[5]))\n",
    "            if count == 1:\n",
    "                curr_params = line.split('\\n')[0]\n",
    "            count += 1\n",
    "    return np.argmax(vals)\n"
   ]
  },
  {
   "cell_type": "markdown",
   "id": "58e84e89-ea0c-41b9-8810-a5b6f1e2a516",
   "metadata": {},
   "source": [
    "### TRANSMIL"
   ]
  },
  {
   "cell_type": "code",
   "execution_count": 2,
   "id": "794cbacc-c4e2-431e-9a1b-05b5fa7f606a",
   "metadata": {},
   "outputs": [
    {
     "name": "stdout",
     "output_type": "stream",
     "text": [
      "Test AUROC: 0.7983857745524279\n",
      "116.00493359565735\n",
      "0.798 (0.791, 0.805)\n"
     ]
    },
    {
     "data": {
      "text/plain": [
       "['transmil.joblib']"
      ]
     },
     "execution_count": 2,
     "metadata": {},
     "output_type": "execute_result"
    }
   ],
   "source": [
    "cD = 128\n",
    "model = TransMIL(cD).to(device)\n",
    "epoch = get_epoch('transmil_nope')\n",
    "modelname = start + 'best_transmil_mimiccxr_densenet_epoch%d'%epoch\n",
    "model.load_state_dict(torch.load(modelname))\n",
    "\n",
    "bag_preds = []\n",
    "bag_ys = []\n",
    "start_epoch = time.time()\n",
    "for batch_idx, (curridx, data, target) in enumerate(test_loader):\n",
    "    data = data.to(device).squeeze(0)\n",
    "    target = target.to(device)\n",
    "\n",
    "    bag_prediction = model(data)\n",
    "    \n",
    "    bag_preds.extend(F.softmax(bag_prediction, dim = 1)[:, 1].detach().cpu().numpy())\n",
    "    bag_ys.extend(target.detach().cpu().numpy())\n",
    "    del data\n",
    "    del bag_prediction\n",
    "end_epoch = time.time()\n",
    "\n",
    "bag_preds = np.array(bag_preds)\n",
    "bag_ys = np.array(bag_ys)  \n",
    "print('Test AUROC:', roc_auc_score(bag_ys, bag_preds))\n",
    "print(end_epoch - start_epoch)\n",
    "\n",
    "curr_rocs = []\n",
    "for _ in range(1000):\n",
    "    curr_idxs = np.random.choice(len(bag_preds), len(bag_preds))\n",
    "    curr_bp = bag_preds[curr_idxs]\n",
    "    curr_y = bag_ys[curr_idxs]\n",
    "    curr_rocs.append(roc_auc_score(curr_y, curr_bp))\n",
    "\n",
    "curr_rocs.sort()\n",
    "print('%0.3f (%0.3f, %0.3f)'%(curr_rocs[500], curr_rocs[25], curr_rocs[975]))\n",
    "joblib.dump(curr_rocs, 'transmil.joblib')"
   ]
  },
  {
   "cell_type": "code",
   "execution_count": null,
   "id": "48f3960d-2737-432c-a9e0-78613e398069",
   "metadata": {},
   "outputs": [],
   "source": [
    "cD = 128\n",
    "model = TransMIL_LinearPE(cD).to(device)\n",
    "epoch = get_epoch('transmil_LINEARPE')\n",
    "modelname = start + 'best_transmil_LINEARPE_mimiccxr_densenet_epoch%d'%epoch\n",
    "model.load_state_dict(torch.load(modelname))\n",
    "\n",
    "bag_preds = []\n",
    "bag_ys = []\n",
    "start_epoch = time.time()\n",
    "for batch_idx, (curridx, data, target) in enumerate(test_loader):\n",
    "    data = data.to(device).squeeze(0)\n",
    "    target = target.to(device)\n",
    "\n",
    "    bag_prediction = model(data)\n",
    "    \n",
    "    bag_preds.extend(F.softmax(bag_prediction, dim = 1)[:, 1].detach().cpu().numpy())\n",
    "    bag_ys.extend(target.detach().cpu().numpy())\n",
    "    del data\n",
    "    del bag_prediction\n",
    "end_epoch = time.time()\n",
    "\n",
    "bag_preds = np.array(bag_preds)\n",
    "bag_ys = np.array(bag_ys)  \n",
    "print('Test AUROC:', roc_auc_score(bag_ys, bag_preds))\n",
    "print(end_epoch - start_epoch)\n",
    "\n",
    "curr_rocs = []\n",
    "for _ in range(1000):\n",
    "    curr_idxs = np.random.choice(len(bag_preds), len(bag_preds))\n",
    "    curr_bp = bag_preds[curr_idxs]\n",
    "    curr_y = bag_ys[curr_idxs]\n",
    "    curr_rocs.append(roc_auc_score(curr_y, curr_bp))\n",
    "\n",
    "curr_rocs.sort()\n",
    "print('%0.3f (%0.3f, %0.3f)'%(curr_rocs[500], curr_rocs[25], curr_rocs[975]))\n",
    "joblib.dump(curr_rocs, 'transmil_linearpe.joblib')"
   ]
  },
  {
   "cell_type": "code",
   "execution_count": null,
   "id": "b6427ac1-bd0a-477b-9811-77299f60a242",
   "metadata": {},
   "outputs": [],
   "source": []
  }
 ],
 "metadata": {
  "kernelspec": {
   "display_name": "Python 3 (ipykernel)",
   "language": "python",
   "name": "python3"
  },
  "language_info": {
   "codemirror_mode": {
    "name": "ipython",
    "version": 3
   },
   "file_extension": ".py",
   "mimetype": "text/x-python",
   "name": "python",
   "nbconvert_exporter": "python",
   "pygments_lexer": "ipython3",
   "version": "3.8.10"
  }
 },
 "nbformat": 4,
 "nbformat_minor": 5
}
