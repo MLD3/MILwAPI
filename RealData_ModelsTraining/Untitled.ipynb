{
 "cells": [
  {
   "cell_type": "code",
   "execution_count": 88,
   "id": "cf1ff682-bc38-413b-8e0a-065c0a91912c",
   "metadata": {},
   "outputs": [],
   "source": [
    "from tqdm.auto import tqdm\n",
    "from scipy.stats import norm\n",
    "import matplotlib.pyplot as plt\n",
    "import pandas as pd\n",
    "import numpy as np\n",
    "import joblib\n",
    "from sklearn.metrics import roc_auc_score\n",
    "\n",
    "def get_bootstrap(bag_y, pred_y, bag_y_pe, pred_y_pe, iterations=1000, sign_level=0.05):\n",
    "    boot_data = []\n",
    "\n",
    "    # Bootstrap sampling\n",
    "    for i in tqdm(range(iterations)):\n",
    "        curr_idxs1 = np.random.choice(len(bag_y), len(bag_y))\n",
    "        curr_idxs2 = np.random.choice(len(bag_y), len(bag_y))\n",
    "        boot_data.append(roc_auc_score(bag_y[curr_idxs1], pred_y[curr_idxs1]) - roc_auc_score(bag_y_pe[curr_idxs2], pred_y_pe[curr_idxs2]))\n",
    "    \n",
    "    # Calculate p-values\n",
    "    boot_data = np.array(boot_data)\n",
    "    p_value = min(sum(boot_data<=0)/len(boot_data), sum(boot_data>0)/len(boot_data)) * 2\n",
    "    print(p_value)\n",
    "    print(p_value > sign_level)\n",
    "    \n",
    "    \n",
    "    "
   ]
  },
  {
   "cell_type": "code",
   "execution_count": 89,
   "id": "6a3f30d1-7004-4243-951d-53b0593745f5",
   "metadata": {},
   "outputs": [
    {
     "name": "stderr",
     "output_type": "stream",
     "text": [
      "100%|███████████████████████████████████████| 1000/1000 [00:10<00:00, 97.79it/s]"
     ]
    },
    {
     "name": "stdout",
     "output_type": "stream",
     "text": [
      "0.48\n",
      "True\n"
     ]
    },
    {
     "name": "stderr",
     "output_type": "stream",
     "text": [
      "\n"
     ]
    }
   ],
   "source": [
    "nystrom_y_nope = np.array(joblib.load('bagy_transformer.joblib'))\n",
    "nystrom_y_pred_nope = np.array(joblib.load('bagpred_transformer.joblib'))\n",
    "\n",
    "nystrom_y_pe = np.array(joblib.load('bagy_transformer_pe.joblib'))\n",
    "nystrom_y_pred_pe = np.array(joblib.load('bagpred_transformer_pe.joblib'))\n",
    "\n",
    "get_bootstrap(nystrom_y_nope, nystrom_y_pred_nope, nystrom_y_pe, nystrom_y_pred_pe)\n"
   ]
  },
  {
   "cell_type": "code",
   "execution_count": 90,
   "id": "0cb075e5-4c51-4a0c-adbb-51e163ccc05d",
   "metadata": {},
   "outputs": [
    {
     "name": "stderr",
     "output_type": "stream",
     "text": [
      "100%|███████████████████████████████████████| 1000/1000 [00:10<00:00, 97.37it/s]"
     ]
    },
    {
     "name": "stdout",
     "output_type": "stream",
     "text": [
      "0.0\n",
      "False\n"
     ]
    },
    {
     "name": "stderr",
     "output_type": "stream",
     "text": [
      "\n"
     ]
    }
   ],
   "source": [
    "orig_y_nope = np.array(joblib.load('bagy_transformer_orig.joblib'))\n",
    "orig_y_pred_nope = np.array(joblib.load('bagpred_transformer_orig.joblib'))\n",
    "\n",
    "orig_y_pe = np.array(joblib.load('bagy_transformer_orig_pe.joblib'))\n",
    "orig_y_pred_pe = np.array(joblib.load('bagpred_transformer_orig_pe.joblib'))\n",
    "\n",
    "get_bootstrap(orig_y_nope, orig_y_pred_nope, orig_y_pe, orig_y_pred_pe)\n"
   ]
  },
  {
   "cell_type": "code",
   "execution_count": null,
   "id": "d049821d-aad8-411a-b3e0-b0d92d6f1793",
   "metadata": {},
   "outputs": [],
   "source": []
  }
 ],
 "metadata": {
  "kernelspec": {
   "display_name": "Python 3 (ipykernel)",
   "language": "python",
   "name": "python3"
  },
  "language_info": {
   "codemirror_mode": {
    "name": "ipython",
    "version": 3
   },
   "file_extension": ".py",
   "mimetype": "text/x-python",
   "name": "python",
   "nbconvert_exporter": "python",
   "pygments_lexer": "ipython3",
   "version": "3.8.10"
  }
 },
 "nbformat": 4,
 "nbformat_minor": 5
}
