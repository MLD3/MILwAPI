{
 "cells": [
  {
   "cell_type": "code",
   "execution_count": 2,
   "id": "6a918ae4-0cf4-48e7-bc05-2e9c7a7c42b2",
   "metadata": {},
   "outputs": [
    {
     "name": "stdout",
     "output_type": "stream",
     "text": [
      "abdmil_nope 0.6949\n",
      "abdmil_pe 0.6989\n",
      "clamSB_nope 0.7089\n",
      "clamSB_pe 0.7201\n"
     ]
    },
    {
     "ename": "FileNotFoundError",
     "evalue": "[Errno 2] No such file or directory: 'best_clamMB_nope.txt'",
     "output_type": "error",
     "traceback": [
      "\u001b[0;31m---------------------------------------------------------------------------\u001b[0m",
      "\u001b[0;31mFileNotFoundError\u001b[0m                         Traceback (most recent call last)",
      "Input \u001b[0;32mIn [2]\u001b[0m, in \u001b[0;36m<cell line: 3>\u001b[0;34m()\u001b[0m\n\u001b[1;32m      3\u001b[0m \u001b[38;5;28;01mfor\u001b[39;00m name \u001b[38;5;129;01min\u001b[39;00m [\u001b[38;5;124m'\u001b[39m\u001b[38;5;124mabdmil_nope\u001b[39m\u001b[38;5;124m'\u001b[39m, \u001b[38;5;124m'\u001b[39m\u001b[38;5;124mabdmil_pe\u001b[39m\u001b[38;5;124m'\u001b[39m, \u001b[38;5;124m'\u001b[39m\u001b[38;5;124mclamSB_nope\u001b[39m\u001b[38;5;124m'\u001b[39m, \u001b[38;5;124m'\u001b[39m\u001b[38;5;124mclamSB_pe\u001b[39m\u001b[38;5;124m'\u001b[39m, \u001b[38;5;124m'\u001b[39m\u001b[38;5;124mclamMB_nope\u001b[39m\u001b[38;5;124m'\u001b[39m, \u001b[38;5;124m'\u001b[39m\u001b[38;5;124mclamMB_pe\u001b[39m\u001b[38;5;124m'\u001b[39m, \u001b[38;5;124m'\u001b[39m\u001b[38;5;124mdtfd_nope\u001b[39m\u001b[38;5;124m'\u001b[39m, \u001b[38;5;124m'\u001b[39m\u001b[38;5;124mdtfd_pe\u001b[39m\u001b[38;5;124m'\u001b[39m, \u001b[38;5;124m'\u001b[39m\u001b[38;5;124mtransmil_nope\u001b[39m\u001b[38;5;124m'\u001b[39m]:\n\u001b[1;32m      4\u001b[0m     title \u001b[38;5;241m=\u001b[39m \u001b[38;5;124m'\u001b[39m\u001b[38;5;124mbest_\u001b[39m\u001b[38;5;132;01m%s\u001b[39;00m\u001b[38;5;124m.txt\u001b[39m\u001b[38;5;124m'\u001b[39m\u001b[38;5;241m%\u001b[39m(name)\n\u001b[0;32m----> 5\u001b[0m     \u001b[38;5;28;01mwith\u001b[39;00m \u001b[38;5;28;43mopen\u001b[39;49m\u001b[43m(\u001b[49m\u001b[43mtitle\u001b[49m\u001b[43m)\u001b[49m \u001b[38;5;28;01mas\u001b[39;00m f:\n\u001b[1;32m      6\u001b[0m         count \u001b[38;5;241m=\u001b[39m \u001b[38;5;241m0\u001b[39m\n\u001b[1;32m      7\u001b[0m         vals \u001b[38;5;241m=\u001b[39m []\n",
      "\u001b[0;31mFileNotFoundError\u001b[0m: [Errno 2] No such file or directory: 'best_clamMB_nope.txt'"
     ]
    }
   ],
   "source": [
    "import numpy as np\n",
    "\n",
    "for name in ['abdmil_nope', 'abdmil_pe', 'clamSB_nope', 'clamSB_pe', 'clamMB_nope', 'clamMB_pe', 'dtfd_nope', 'dtfd_pe', 'transmil_nope']:\n",
    "    title = 'best_%s.txt'%(name)\n",
    "    with open(title) as f:\n",
    "        count = 0\n",
    "        vals = []\n",
    "        tests = []\n",
    "        for line in f:\n",
    "            if count > 1:\n",
    "                vals.append(float(line.split(', ')[4]))\n",
    "                tests.append(float(line.split(', ')[5]))\n",
    "            if count == 1:\n",
    "                curr_params = line.split('\\n')[0]\n",
    "            count += 1\n",
    "    print(name, tests[np.argmax(vals)])\n"
   ]
  },
  {
   "cell_type": "code",
   "execution_count": 6,
   "id": "34ca32d4-190c-41d6-9fcd-76b3ffb6b05f",
   "metadata": {},
   "outputs": [
    {
     "name": "stdout",
     "output_type": "stream",
     "text": [
      "best_transformer_max.txt 0.7241\n",
      "best_transformer_max_pe.txt 0.7251\n",
      "best_transformer_avg.txt 0.7141\n",
      "best_transformer_avg_pe.txt 0.6916\n"
     ]
    },
    {
     "ename": "FileNotFoundError",
     "evalue": "[Errno 2] No such file or directory: 'best_transformer.txt'",
     "output_type": "error",
     "traceback": [
      "\u001b[0;31m---------------------------------------------------------------------------\u001b[0m",
      "\u001b[0;31mFileNotFoundError\u001b[0m                         Traceback (most recent call last)",
      "Input \u001b[0;32mIn [6]\u001b[0m, in \u001b[0;36m<cell line: 3>\u001b[0;34m()\u001b[0m\n\u001b[1;32m      5\u001b[0m \u001b[38;5;28;01mfor\u001b[39;00m dict_addPE \u001b[38;5;129;01min\u001b[39;00m [\u001b[38;5;124m'\u001b[39m\u001b[38;5;124m'\u001b[39m, \u001b[38;5;124m'\u001b[39m\u001b[38;5;124m_pe\u001b[39m\u001b[38;5;124m'\u001b[39m]:\n\u001b[1;32m      6\u001b[0m     title \u001b[38;5;241m=\u001b[39m \u001b[38;5;124m'\u001b[39m\u001b[38;5;124mbest_transformer\u001b[39m\u001b[38;5;132;01m%s\u001b[39;00m\u001b[38;5;132;01m%s\u001b[39;00m\u001b[38;5;132;01m%s\u001b[39;00m\u001b[38;5;124m.txt\u001b[39m\u001b[38;5;124m'\u001b[39m\u001b[38;5;241m%\u001b[39m(dict_attn, dict_agg, dict_addPE)\n\u001b[0;32m----> 7\u001b[0m     \u001b[38;5;28;01mwith\u001b[39;00m \u001b[38;5;28;43mopen\u001b[39;49m\u001b[43m(\u001b[49m\u001b[43mtitle\u001b[49m\u001b[43m)\u001b[49m \u001b[38;5;28;01mas\u001b[39;00m f:\n\u001b[1;32m      8\u001b[0m         count \u001b[38;5;241m=\u001b[39m \u001b[38;5;241m0\u001b[39m\n\u001b[1;32m      9\u001b[0m         vals \u001b[38;5;241m=\u001b[39m []\n",
      "\u001b[0;31mFileNotFoundError\u001b[0m: [Errno 2] No such file or directory: 'best_transformer.txt'"
     ]
    }
   ],
   "source": [
    "import numpy as np\n",
    "\n",
    "for dict_attn in ['', '_orig']:\n",
    "    for dict_agg in ['_max', '_avg', '']:\n",
    "        for dict_addPE in ['', '_pe']:\n",
    "            title = 'best_transformer%s%s%s.txt'%(dict_attn, dict_agg, dict_addPE)\n",
    "            with open(title) as f:\n",
    "                count = 0\n",
    "                vals = []\n",
    "                tests = []\n",
    "                for line in f:\n",
    "                    if count > 1:\n",
    "                        vals.append(float(line.split(', ')[4]))\n",
    "                        tests.append(float(line.split(', ')[5]))\n",
    "                    if count == 1:\n",
    "                        curr_params = line.split('\\n')[0]\n",
    "                    count += 1\n",
    "            print(title, tests[np.argmax(vals)])\n"
   ]
  },
  {
   "cell_type": "code",
   "execution_count": null,
   "id": "4129da14-f2a9-4651-8c3a-4c2af8f29de5",
   "metadata": {},
   "outputs": [],
   "source": []
  }
 ],
 "metadata": {
  "kernelspec": {
   "display_name": "Python 3 (ipykernel)",
   "language": "python",
   "name": "python3"
  },
  "language_info": {
   "codemirror_mode": {
    "name": "ipython",
    "version": 3
   },
   "file_extension": ".py",
   "mimetype": "text/x-python",
   "name": "python",
   "nbconvert_exporter": "python",
   "pygments_lexer": "ipython3",
   "version": "3.8.10"
  }
 },
 "nbformat": 4,
 "nbformat_minor": 5
}
