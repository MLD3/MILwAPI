{
 "cells": [
  {
   "cell_type": "code",
   "execution_count": 1,
   "id": "ceb84bbf-9c39-4682-8003-fc973eb131b5",
   "metadata": {},
   "outputs": [],
   "source": [
    "import numpy as np\n",
    "import joblib\n",
    "\n",
    "sparsity = 1/10\n",
    "bag_size = 20\n",
    "num_bags = 250\n",
    "X_test = joblib.load('MNIST/X_test_%d_%d_%d'%((int(sparsity*100), bag_size, num_bags)))\n",
    "y_test = joblib.load('MNIST/y_test_%d_%d_%d'%((int(sparsity*100), bag_size, num_bags)))\n",
    "actual_y_test = joblib.load('MNIST/actual_y_test_%d_%d_%d'%((int(sparsity*100), bag_size, num_bags)))\n",
    "\n",
    "for perm_dist in [10, 9, 8, 7, 6, 5, 4, 3, 2, 1, 0]:\n",
    "    test_shuffle_idxs = []\n",
    "\n",
    "    for i in range(X_test.shape[0]):\n",
    "        shuffle_idxs = list(range(X_test.shape[1]))\n",
    "        if perm_dist == 0:\n",
    "            test_shuffle_idxs.append(shuffle_idxs)\n",
    "        else:\n",
    "            rand = np.random.rand()\n",
    "            for j in range(0, perm_dist):\n",
    "                if rand < (j + 1)/perm_dist and rand >= (j)/perm_dist:\n",
    "                    test_shuffle_idxs.append(shuffle_idxs[j:] + shuffle_idxs[0:j])\n",
    "\n",
    "    joblib.dump(test_shuffle_idxs, 'MNIST/bagsize%d_test_idxs_permdist_%d.joblib'%(bag_size, perm_dist))"
   ]
  },
  {
   "cell_type": "code",
   "execution_count": 2,
   "id": "2ebdaebb-1841-4d11-8a37-51796dce6d71",
   "metadata": {},
   "outputs": [],
   "source": [
    "import numpy as np\n",
    "import joblib\n",
    "\n",
    "for num_bags in [100, 1000, 10000]:\n",
    "    X_train = joblib.load('MNIST/X_train_%d_%d_%d'%((int(sparsity*100), bag_size, num_bags)))\n",
    "    y_train = joblib.load('MNIST/y_train_%d_%d_%d'%((int(sparsity*100), bag_size, num_bags)))\n",
    "    actual_y_train = joblib.load('MNIST/actual_y_train_%d_%d_%d'%((int(sparsity*100), bag_size, num_bags)))\n",
    "\n",
    "    X_val = joblib.load('MNIST/X_val_%d_%d_%d'%((int(sparsity*100), bag_size, num_bags)))\n",
    "    y_val = joblib.load('MNIST/y_val_%d_%d_%d'%((int(sparsity*100), bag_size, num_bags)))\n",
    "    actual_y_val = joblib.load('MNIST/actual_y_val_%d_%d_%d'%((int(sparsity*100), bag_size, num_bags)))\n",
    "    \n",
    "    for perm_dist in [10, 9, 8, 7, 6, 5, 4, 3, 2, 1, 0]:\n",
    "        train_shuffle_idxs = []\n",
    "        val_shuffle_idxs = []\n",
    "        test_shuffle_idxs = []\n",
    "\n",
    "        for i in range(X_train.shape[0]):\n",
    "            shuffle_idxs = list(range(X_train.shape[1]))\n",
    "            if perm_dist == 0:\n",
    "                train_shuffle_idxs.append(shuffle_idxs)\n",
    "            else:\n",
    "                rand = np.random.rand()\n",
    "                for j in range(0, perm_dist):\n",
    "                    if rand < (j + 1)/perm_dist and rand >= (j)/perm_dist:\n",
    "                        train_shuffle_idxs.append(shuffle_idxs[j:] + shuffle_idxs[0:j])        \n",
    "\n",
    "        for i in range(X_val.shape[0]):\n",
    "            shuffle_idxs = list(range(X_val.shape[1]))\n",
    "            if perm_dist == 0:\n",
    "                val_shuffle_idxs.append(shuffle_idxs)\n",
    "            else:\n",
    "                rand = np.random.rand()\n",
    "                for j in range(0, perm_dist):\n",
    "                    if rand < (j + 1)/perm_dist and rand >= (j)/perm_dist:\n",
    "                        val_shuffle_idxs.append(shuffle_idxs[j:] + shuffle_idxs[0:j])\n",
    "\n",
    "        joblib.dump(train_shuffle_idxs, 'MNIST/bagsize%d_train_idxs_numbags_%d_permdist_%d.joblib'%(bag_size, num_bags, perm_dist))\n",
    "        joblib.dump(val_shuffle_idxs, 'MNIST/bagsize%d_val_idxs_numbags_%d_permdist_%d.joblib'%(bag_size, num_bags, perm_dist))"
   ]
  }
 ],
 "metadata": {
  "kernelspec": {
   "display_name": "Python 3 (ipykernel)",
   "language": "python",
   "name": "python3"
  },
  "language_info": {
   "codemirror_mode": {
    "name": "ipython",
    "version": 3
   },
   "file_extension": ".py",
   "mimetype": "text/x-python",
   "name": "python",
   "nbconvert_exporter": "python",
   "pygments_lexer": "ipython3",
   "version": "3.8.10"
  }
 },
 "nbformat": 4,
 "nbformat_minor": 5
}
