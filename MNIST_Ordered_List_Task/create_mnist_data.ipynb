{
 "cells": [
  {
   "cell_type": "code",
   "execution_count": 1,
   "id": "dd78ea9d-4b45-4504-b4f3-673f43c5916d",
   "metadata": {},
   "outputs": [
    {
     "name": "stdout",
     "output_type": "stream",
     "text": [
      "(60000, 28, 28) (60000,)\n",
      "(10000, 28, 28) (10000,)\n",
      "MNIST/X_train shape: (30000, 28, 28)\n",
      "Number of images in x_train 30000\n",
      "Number of images in x_test 10000\n",
      "(100, 20, 28, 28) (100, 20, 28, 28) 100 100\n",
      "(1000, 20, 28, 28) (1000, 20, 28, 28) 1000 1000\n",
      "(10000, 20, 28, 28) (10000, 20, 28, 28) 10000 10000\n"
     ]
    }
   ],
   "source": [
    "import numpy as np\n",
    "import copy\n",
    "import numpy as np\n",
    "import random\n",
    "import os \n",
    "import sys, getopt\n",
    "import tensorflow as tf\n",
    "import joblib\n",
    "\n",
    "    \n",
    "def create_bags(X, y, sparsity, bag_size, num_bags):\n",
    "    nines = []\n",
    "    notnines = []\n",
    "    for i, curry in enumerate(y):\n",
    "        if curry == 9:\n",
    "            nines.append(i)\n",
    "        else:\n",
    "            notnines.append(i)\n",
    "    \n",
    "    bag_idxs = []\n",
    "    bag_label = []\n",
    "    \n",
    "    numnotnine = int((1-sparsity)*bag_size)\n",
    "    numnine = int(sparsity*bag_size)\n",
    "    \n",
    "    idxs_notnine = np.random.choice(notnines, num_bags*bag_size - int(numnine*num_bags/2), replace = True)\n",
    "    idxs_nine = np.random.choice(nines, int(numnine*num_bags/2), replace = True)\n",
    "    \n",
    "    \n",
    "    notninecount = 0\n",
    "    ninecount = 0\n",
    "    \n",
    "    \n",
    "    for i in range(num_bags):\n",
    "        if i % 2 == 0:\n",
    "            total_idxs = list(idxs_notnine[notninecount:notninecount + numnotnine])\n",
    "            total_idxs.extend(list(idxs_nine[ninecount:ninecount + numnine]))\n",
    "            \n",
    "            bag_idxs.append(total_idxs)\n",
    "            bag_label.append(1)\n",
    "            notninecount += numnotnine\n",
    "            ninecount += numnine\n",
    "        else:\n",
    "            total_idxs = list(idxs_notnine[notninecount:notninecount + bag_size])\n",
    "            bag_idxs.append(total_idxs)\n",
    "            bag_label.append(0)\n",
    "            notninecount += bag_size\n",
    "            \n",
    "    return bag_idxs, bag_label\n",
    "        \n",
    "    \n",
    "(x_train, y_train), (x_test, y_test) = tf.keras.datasets.mnist.load_data()\n",
    "print(x_train.shape, y_train.shape)\n",
    "print(x_test.shape, y_test.shape)\n",
    "\n",
    "orig_x_shape = len(x_train)//2\n",
    "x_val = x_train[orig_x_shape:]\n",
    "y_val = y_train[orig_x_shape:]\n",
    "\n",
    "x_train = x_train[:orig_x_shape]\n",
    "y_train = y_train[:orig_x_shape]\n",
    "\n",
    "# Making sure that the values are float so that we can get decimal points after division\n",
    "x_train = x_train.astype('float32')\n",
    "x_val = x_val.astype('float32')\n",
    "x_test = x_test.astype('float32')\n",
    "\n",
    "print('../MNIST/X_train shape:', x_train.shape)\n",
    "print('Number of images in x_train', x_train.shape[0])\n",
    "print('Number of images in x_test', x_test.shape[0])\n",
    "\n",
    "sparsity = 1/10\n",
    "bag_size = 20\n",
    "num_bags = 250\n",
    "\n",
    "test_bag_idxs, test_bag_label = create_bags(x_test, y_test, sparsity, bag_size, num_bags)\n",
    "\n",
    "actual_x_test = []\n",
    "actual_y_test = []\n",
    "X_test = []\n",
    "for tbi in test_bag_idxs:\n",
    "    inner = []\n",
    "    for i in tbi:\n",
    "        inner.append(x_test[i])\n",
    "        actual_x_test.append(x_test[i])\n",
    "        actual_y_test.append(y_test[i])\n",
    "    X_test.append(inner)\n",
    "\n",
    "joblib.dump(np.array(X_test), '../MNIST/X_test_%d_%d_%d'%((int(sparsity*100), bag_size, num_bags)))\n",
    "joblib.dump(test_bag_label, '../MNIST/y_test_%d_%d_%d'%((int(sparsity*100), bag_size, num_bags)))\n",
    "\n",
    "joblib.dump(np.array(actual_x_test), '../MNIST/actual_X_test_%d_%d_%d'%((int(sparsity*100), bag_size, num_bags)))\n",
    "joblib.dump(np.array(actual_y_test), '../MNIST/actual_y_test_%d_%d_%d'%((int(sparsity*100), bag_size, num_bags)))\n",
    "\n",
    "# print(np.array(X_test).shape, len(y_test))\n",
    "\n",
    "all_bag_sizes = [100, 1000, 10000]\n",
    "for i, num_bags in enumerate(all_bag_sizes):\n",
    "    if i == 0:\n",
    "        actual_x_train = []\n",
    "        actual_x_val = []\n",
    "        actual_y_train = []\n",
    "        actual_y_val = []\n",
    "        X_train = []\n",
    "        X_val = []\n",
    "        new_y_train = []\n",
    "        new_y_val = []\n",
    "        num_bags_left = num_bags\n",
    "    else:\n",
    "        actual_x_train = list(joblib.load('../MNIST/actual_X_train_%d_%d_%d'%((int(sparsity*100), bag_size, all_bag_sizes[i - 1]))))\n",
    "        actual_x_val = list(joblib.load('../MNIST/actual_X_val_%d_%d_%d'%((int(sparsity*100), bag_size, all_bag_sizes[i - 1]))))\n",
    "        actual_y_train = list(joblib.load('../MNIST/actual_y_train_%d_%d_%d'%((int(sparsity*100), bag_size, all_bag_sizes[i - 1]))))\n",
    "        actual_y_val = list(joblib.load('../MNIST/actual_y_val_%d_%d_%d'%((int(sparsity*100), bag_size, all_bag_sizes[i - 1]))))\n",
    "        X_train = list(joblib.load('../MNIST/X_train_%d_%d_%d'%((int(sparsity*100), bag_size, all_bag_sizes[i - 1]))))\n",
    "        X_val = list(joblib.load('../MNIST/X_val_%d_%d_%d'%((int(sparsity*100), bag_size, all_bag_sizes[i - 1]))))\n",
    "        new_y_train = list(joblib.load('../MNIST/y_train_%d_%d_%d'%((int(sparsity*100), bag_size, all_bag_sizes[i - 1]))))\n",
    "        new_y_val = list(joblib.load('../MNIST/y_val_%d_%d_%d'%((int(sparsity*100), bag_size, all_bag_sizes[i - 1]))))\n",
    "    \n",
    "        num_bags_left = num_bags - all_bag_sizes[i - 1]\n",
    "        \n",
    "    train_bag_idxs, train_bag_label = create_bags(x_train, y_train, sparsity, bag_size, num_bags_left)\n",
    "    val_bag_idxs, val_bag_label = create_bags(x_val, y_val, sparsity, bag_size, num_bags_left)\n",
    "\n",
    "    new_y_train.extend(train_bag_label)\n",
    "    new_y_val.extend(val_bag_label)\n",
    "\n",
    "    for tbi in train_bag_idxs:\n",
    "        inner = []\n",
    "        for i in tbi:\n",
    "            inner.append(x_train[i])\n",
    "            actual_x_train.append(x_train[i])\n",
    "            actual_y_train.append(y_train[i])\n",
    "        X_train.append(inner)\n",
    "\n",
    "    for tbi in val_bag_idxs:\n",
    "        inner = []\n",
    "        for i in tbi:\n",
    "            inner.append(x_val[i])\n",
    "            actual_x_val.append(x_val[i])\n",
    "            actual_y_val.append(y_val[i])\n",
    "        X_val.append(inner)\n",
    "\n",
    "    joblib.dump(np.array(X_train), '../MNIST/X_train_%d_%d_%d'%((int(sparsity*100), bag_size, num_bags)))\n",
    "    joblib.dump(new_y_train, '../MNIST/y_train_%d_%d_%d'%((int(sparsity*100), bag_size, num_bags)))\n",
    "\n",
    "    joblib.dump(np.array(X_val), '../MNIST/X_val_%d_%d_%d'%((int(sparsity*100), bag_size, num_bags)))\n",
    "    joblib.dump(new_y_val, '../MNIST/y_val_%d_%d_%d'%((int(sparsity*100), bag_size, num_bags)))\n",
    "\n",
    "    joblib.dump(np.array(actual_x_train), '../MNIST/actual_X_train_%d_%d_%d'%((int(sparsity*100), bag_size, num_bags)))\n",
    "    joblib.dump(np.array(actual_y_train), '../MNIST/actual_y_train_%d_%d_%d'%((int(sparsity*100), bag_size, num_bags)))\n",
    "\n",
    "    joblib.dump(np.array(actual_x_val), '../MNIST/actual_X_val_%d_%d_%d'%((int(sparsity*100), bag_size, num_bags)))\n",
    "    joblib.dump(np.array(actual_y_val), '../MNIST/actual_y_val_%d_%d_%d'%((int(sparsity*100), bag_size, num_bags)))\n",
    "\n",
    "    print(np.array(X_train).shape, np.array(X_val).shape, len(new_y_train), len(new_y_val))"
   ]
  },
  {
   "cell_type": "code",
   "execution_count": 2,
   "id": "190e579d-c8a1-4292-ba26-971cbe971723",
   "metadata": {},
   "outputs": [
    {
     "name": "stdout",
     "output_type": "stream",
     "text": [
      "(200000, 28, 28)\n"
     ]
    }
   ],
   "source": [
    "print(joblib.load('../MNIST/actual_X_train_%d_%d_%d'%((int(sparsity*100), bag_size, num_bags))).shape)"
   ]
  },
  {
   "cell_type": "code",
   "execution_count": 3,
   "id": "3ba6d32b-45c3-4089-90df-3096adc33d58",
   "metadata": {},
   "outputs": [
    {
     "name": "stdout",
     "output_type": "stream",
     "text": [
      "(10000, 20, 28, 28)\n"
     ]
    }
   ],
   "source": [
    "print(joblib.load('../MNIST/X_train_%d_%d_%d'%((int(sparsity*100), bag_size, num_bags))).shape)"
   ]
  },
  {
   "cell_type": "code",
   "execution_count": 4,
   "id": "e2664c72-bcd0-4b2e-b9c5-dc1ce98b343e",
   "metadata": {},
   "outputs": [
    {
     "name": "stdout",
     "output_type": "stream",
     "text": [
      "[3, 4, 2, 5, 0, 7, 5, 5, 8, 8]\n",
      "[2, 0, 1, 2, 7, 6, 3, 8, 9, 9]\n"
     ]
    }
   ],
   "source": [
    "print(actual_y_train[0:10])\n",
    "print(actual_y_train[10:20])"
   ]
  }
 ],
 "metadata": {
  "kernelspec": {
   "display_name": "Python 3 (ipykernel)",
   "language": "python",
   "name": "python3"
  },
  "language_info": {
   "codemirror_mode": {
    "name": "ipython",
    "version": 3
   },
   "file_extension": ".py",
   "mimetype": "text/x-python",
   "name": "python",
   "nbconvert_exporter": "python",
   "pygments_lexer": "ipython3",
   "version": "3.8.10"
  }
 },
 "nbformat": 4,
 "nbformat_minor": 5
}
